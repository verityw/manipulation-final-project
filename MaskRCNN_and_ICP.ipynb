{
  "nbformat": 4,
  "nbformat_minor": 0,
  "metadata": {
    "colab": {
      "name": "MaskRCNN_and_ICP.ipynb",
      "provenance": [],
      "authorship_tag": "ABX9TyNugFWpBxMbJ5mjXXAy+5gp",
      "include_colab_link": true
    },
    "kernelspec": {
      "name": "python3",
      "display_name": "Python 3"
    }
  },
  "cells": [
    {
      "cell_type": "markdown",
      "metadata": {
        "id": "view-in-github",
        "colab_type": "text"
      },
      "source": [
        "<a href=\"https://colab.research.google.com/github/verityw/manipulation-final-project/blob/main/MaskRCNN_and_ICP.ipynb\" target=\"_parent\"><img src=\"https://colab.research.google.com/assets/colab-badge.svg\" alt=\"Open In Colab\"/></a>"
      ]
    },
    {
      "cell_type": "markdown",
      "metadata": {
        "id": "7ztJ952RFeZ3"
      },
      "source": [
        "Clutter_gen setup"
      ]
    },
    {
      "cell_type": "code",
      "metadata": {
        "id": "0Q4VNnemFiQy"
      },
      "source": [
        "import importlib\n",
        "import sys\n",
        "from urllib.request import urlretrieve\n",
        "\n",
        "if 'google.colab' in sys.modules and importlib.util.find_spec('manipulation') is None:\n",
        "    urlretrieve(f\"http://manipulation.csail.mit.edu/scripts/setup/setup_manipulation_colab.py\",\n",
        "                \"setup_manipulation_colab.py\")\n",
        "    from setup_manipulation_colab import setup_manipulation\n",
        "    setup_manipulation(manipulation_sha='master', drake_version='latest', drake_build='continuous')\n",
        "\n",
        "# Determine if this notebook is currently running as a notebook or a unit test.\n",
        "from IPython import get_ipython\n",
        "running_as_notebook = get_ipython() and hasattr(get_ipython(), 'kernel')\n",
        "\n",
        "# Setup rendering (with xvfb), if necessary:\n",
        "import os\n",
        "if 'google.colab' in sys.modules and os.getenv(\"DISPLAY\") is None:\n",
        "    from pyvirtualdisplay import Display\n",
        "    display = Display(visible=0, size=(1400, 900))\n",
        "    display.start()\n",
        "\n",
        "server_args = []\n",
        "if 'google.colab' in sys.modules:\n",
        "  server_args = ['--ngrok_http_tunnel']\n",
        "\n",
        "# Start two meshcat servers (one for 2d) to use for the remainder of this notebook.\n",
        "from meshcat.servers.zmqserver import start_zmq_server_as_subprocess\n",
        "proc_2d, zmq_url_2d, web_url_2d = start_zmq_server_as_subprocess(server_args=server_args)\n",
        "proc, zmq_url, web_url = start_zmq_server_as_subprocess(server_args=server_args)\n",
        "\n",
        "# Imports\n",
        "import numpy as np\n",
        "from IPython.display import display, HTML\n",
        "from ipywidgets import Textarea\n",
        "\n",
        "from pydrake.all import ( \n",
        "    AddMultibodyPlantSceneGraph, ConnectMeshcatVisualizer, \n",
        "    DiagramBuilder, RigidTransform, RotationMatrix, Box,    \n",
        "    CoulombFriction, FindResourceOrThrow, FixedOffsetFrame, \n",
        "    GeometryInstance, MeshcatContactVisualizer, Parser, PlanarJoint,  \n",
        "    JointIndex, Simulator, ProcessModelDirectives, LoadModelDirectives\n",
        ")\n",
        "\n",
        "from functools import partial\n",
        "import open3d as o3d\n",
        "import matplotlib.pyplot as plt\n",
        "from IPython.display import display, HTML\n",
        "import meshcat\n",
        "import meshcat.geometry as g\n",
        "import meshcat.transformations as tf\n",
        "\n",
        "from pydrake.all import (\n",
        "    ConnectPlanarSceneGraphVisualizer,\n",
        "    ConnectDrakeVisualizer, DepthCameraProperties, RgbdSensor,\n",
        "    RandomGenerator, UniformlyRandomRotationMatrix, RollPitchYaw,\n",
        "    MakeRenderEngineVtk, RenderEngineVtkParams, Role, UnitInertia, set_log_level\n",
        ")\n",
        "\n",
        "from ipywidgets import Dropdown, FloatSlider, Layout\n",
        "from pydrake.all import (\n",
        "    Sphere, Cylinder, Box, Capsule, Ellipsoid, SpatialInertia)\n",
        "\n",
        "import pydrake\n",
        "\n",
        "#from pydrake.multibody.jupyter_widgets import MakeJointSlidersThatPublishOnCallback\n",
        "from manipulation.jupyter_widgets import MakeJointSlidersThatPublishOnCallback\n",
        "from manipulation.meshcat_utils import draw_open3d_point_cloud, draw_points\n",
        "from manipulation.open3d_utils import create_open3d_point_cloud\n",
        "from manipulation.mustard_depth_camera_example import MustardExampleSystem\n",
        "from manipulation.scenarios import AddRgbdSensors\n",
        "from manipulation.utils import FindResource\n",
        "\n",
        "set_log_level(\"warn\");\n",
        "\n",
        "ycb = [(\"cracker\", \"003_cracker_box.sdf\"), \n",
        "        (\"sugar\", \"004_sugar_box.sdf\"), \n",
        "        (\"soup\", \"005_tomato_soup_can.sdf\"), \n",
        "        (\"mustard\", \"006_mustard_bottle.sdf\"), \n",
        "        (\"gelatin\", \"009_gelatin_box.sdf\"), \n",
        "        (\"meat\", \"010_potted_meat_can.sdf\")]\n"
      ],
      "execution_count": 1,
      "outputs": []
    },
    {
      "cell_type": "markdown",
      "metadata": {
        "id": "A7Gu830o7bbV"
      },
      "source": [
        "ICP Setup"
      ]
    },
    {
      "cell_type": "code",
      "metadata": {
        "id": "Dh3ITxz26t0Q"
      },
      "source": [
        "import importlib\n",
        "import sys\n",
        "from urllib.request import urlretrieve\n",
        "\n",
        "if 'google.colab' in sys.modules and importlib.util.find_spec('manipulation') is None:\n",
        "    urlretrieve(f\"http://manipulation.csail.mit.edu/scripts/setup/setup_manipulation_colab.py\",\n",
        "                \"setup_manipulation_colab.py\")\n",
        "    from setup_manipulation_colab import setup_manipulation\n",
        "    setup_manipulation(manipulation_sha='a43d49331e92aa64ca7dbe21882ef5853218753c', drake_version='20200921', drake_build='nightly')\n",
        "\n",
        "# Determine if this notebook is currently running as a notebook or a unit test.\n",
        "from IPython import get_ipython\n",
        "running_as_notebook = get_ipython() and hasattr(get_ipython(), 'kernel')\n",
        "\n",
        "# Setup rendering (with xvfb), if necessary:\n",
        "import os\n",
        "if 'google.colab' in sys.modules and os.getenv(\"DISPLAY\") is None:\n",
        "    from pyvirtualdisplay import Display\n",
        "    display = Display(visible=0, size=(1400, 900))\n",
        "    display.start()\n",
        "\n",
        "# Start a single meshcat server instance to use for the remainder of this notebook.\n",
        "from meshcat.servers.zmqserver import start_zmq_server_as_subprocess\n",
        "server_args = []\n",
        "if 'google.colab' in sys.modules:\n",
        "    server_args = ['--ngrok_http_tunnel']\n",
        "proc, zmq_url, web_url = start_zmq_server_as_subprocess(server_args=server_args)\n",
        "\n",
        "import numpy as np\n",
        "import meshcat\n",
        "import open3d as o3d\n",
        "import meshcat.geometry as g\n",
        "import meshcat.transformations as tf\n",
        "\n",
        "from pydrake.all import (\n",
        "    AddMultibodyPlantSceneGraph, BaseField, Box, ConnectMeshcatVisualizer, DepthCameraProperties, \n",
        "    DepthImageToPointCloud, DiagramBuilder, FindResourceOrThrow, MakeRenderEngineVtk, CameraInfo, PixelType, \n",
        "    MeshcatPointCloudVisualizer, Parser, RenderEngineVtkParams, RgbdSensor, RigidTransform, Simulator,\n",
        "    RollPitchYaw, RotationMatrix, SpatialInertia, LeafSystem, AbstractValue, PointCloud, Fields)"
      ],
      "execution_count": 2,
      "outputs": []
    },
    {
      "cell_type": "markdown",
      "metadata": {
        "id": "x__j8B1l7usK"
      },
      "source": [
        "ICP Util functions"
      ]
    },
    {
      "cell_type": "code",
      "metadata": {
        "id": "DjwbuyaS7tEl"
      },
      "source": [
        "\"\"\"\n",
        "Point Cloud Utilities. Converts between three forms of pointcloud objects:\n",
        "  - Drake Pointcloud Object\n",
        "  - Open3d Pointcloud Object\n",
        "  - Nx3 numpy array\n",
        "\"\"\"\n",
        "\n",
        "def pcl_np2o3d(pcl_np):\n",
        "  \"\"\"\n",
        "  Input: Nx3 np array of points.\n",
        "  Ouput: Open3d np object. \n",
        "  \"\"\"\n",
        "  assert(pcl_np.shape[1] == 3) # sanity check\n",
        "  pcl_o3d = o3d.geometry.PointCloud()\n",
        "  pcl_o3d.points = o3d.utility.Vector3dVector(pcl_np)\n",
        "  return pcl_o3d \n",
        "\n",
        "def pcl_o3d2np(pcl_o3d):\n",
        "  \"\"\"\n",
        "  Input: Open3d np object.\n",
        "  Output: Nx3 np array of points. \n",
        "  \"\"\"\n",
        "  return np.asarray(pcl_o3d.points)\n",
        "  \n",
        "def pcl_np2drake(pcl_np, color):\n",
        "  \"\"\"\n",
        "  Input: Nx3 np array of points in mm, and and 3x1 np array of color using uin8 format.\n",
        "  Output: drake Pointcloud object. \n",
        "  \"\"\"\n",
        "  assert(pcl_np.shape[1] == 3) # sanity check. \n",
        "  pcl_drake = PointCloud(new_size = pcl_np.shape[0],\n",
        "                         fields= Fields(BaseField.kXYZs | BaseField.kRGBs))\n",
        "  xyzs = pcl_drake.mutable_xyzs()\n",
        "  xyzs[:,:] = np.array(pcl_np).transpose()\n",
        "  rgbs = pcl_drake.mutable_rgbs()\n",
        "  rgbs[:,:] = np.tile(color, (pcl_np.shape[0], 1)).transpose()\n",
        "  return pcl_drake\n",
        "\n",
        "def pcl_drake2np(pcl_drake):\n",
        "  \"\"\"\n",
        "  Input: drake Pointcloud object.\n",
        "  Output: Nx3 np array of points. \n",
        "  \"\"\"\n",
        "  xyzs = pcl_drake.mutable_xyzs().copy().transpose()\n",
        "  return xyzs \n",
        "\n",
        "def rgb_drake2np(pcl_drake):\n",
        "  rgbs = pcl_drake.mutable_rgbs().copy().transpose()\n",
        "  return rgbs \n",
        "\n",
        "def visualize_pointcloud(vis, pcl, name=\"point_cloud\", X_WC=RigidTransform()):\n",
        "  \"\"\"\n",
        "  pcl: Drake pointcloud object. \n",
        "  All other formats should convert to this format before passing to visualization. \n",
        "  \"\"\"\n",
        "  vis[name].set_object(g.PointCloud(X_WC.multiply(pcl.xyzs()), pcl.rgbs() / 255., size=0.001))\n",
        "\n",
        "def visualize_pointcloud_xyzrgb(vis, pcl_xyz, pcl_rgb, name=\"point_cloud\", X_WC=RigidTransform()):\n",
        "  \"\"\"\n",
        "  Visualization function to access Meshcat's method more directly. \n",
        "  \"\"\"\n",
        "  vis[name].set_object(g.PointCloud(X_WC.multiply(pcl_xyz), pcl_rgb / 255., size=0.001))"
      ],
      "execution_count": 3,
      "outputs": []
    },
    {
      "cell_type": "markdown",
      "metadata": {
        "id": "kdw2fcBD9ZgM"
      },
      "source": [
        "Get scene (WILL EVENTUALLY BE REPLACED BY A MODIFICATION OF clutter_gen)"
      ]
    },
    {
      "cell_type": "code",
      "metadata": {
        "id": "MY9gUvW_9sca",
        "outputId": "b9b33589-db8a-4827-81ee-b156c0f12de0",
        "colab": {
          "base_uri": "https://localhost:8080/"
        }
      },
      "source": [
        "def setup_clutter_station(X_WC):\n",
        "  builder = DiagramBuilder()\n",
        "    \n",
        "  plant, scene_graph = AddMultibodyPlantSceneGraph(builder, time_step=0.0005)\n",
        "\n",
        "  parser = Parser(plant)\n",
        "\n",
        "  parser.AddModelFromFile(FindResourceOrThrow(\n",
        "        \"drake/examples/manipulation_station/models/bin.sdf\"))\n",
        "  plant.WeldFrames(plant.world_frame(), plant.GetFrameByName(\"bin_base\"))\n",
        "\n",
        "\n",
        "  rs = np.random.RandomState()  # this is for python\n",
        "  generator = RandomGenerator(rs.randint(1000))  # this is for c++\n",
        "\n",
        "  # Only generate a few objects for testing.\n",
        "  for i in [2]: #[2, 3]:\n",
        "      object_num = i\n",
        "      sdf = FindResourceOrThrow(\"drake/manipulation/models/ycb/sdf/\" + ycb[object_num][1])\n",
        "      parser.AddModelFromFile(sdf, f\"object{i}\")\n",
        "  # Add a rendering engine\n",
        "  renderer = \"my_renderer\"\n",
        "  scene_graph.AddRenderer(renderer,\n",
        "                          MakeRenderEngineVtk(RenderEngineVtkParams()))\n",
        "  \n",
        "  plant.Finalize() \n",
        "  plant.GetFloatingBaseBodies() \n",
        "  frames_to_draw = {\"cameras\": \"camera\"}\n",
        "  meshcat = ConnectMeshcatVisualizer(builder, scene_graph, zmq_url=zmq_url, \n",
        "                                      delete_prefix_on_load=False,\n",
        "                                      frames_to_draw=frames_to_draw)\n",
        "  meshcat.load() \n",
        "\n",
        "  properties = DepthCameraProperties(width=640,\n",
        "                                      height=480,\n",
        "                                      fov_y=np.pi / 4.0,\n",
        "                                      renderer_name=renderer,\n",
        "                                      z_near=0.1,\n",
        "                                      z_far=10.0)\n",
        "  camera = builder.AddSystem(\n",
        "        RgbdSensor(parent_id=scene_graph.world_frame_id(),\n",
        "                   X_PB=RigidTransform(\n",
        "                       RollPitchYaw(np.pi, 0, np.pi/2.0),\n",
        "                       [0, 0, .8]),\n",
        "                   properties=properties,\n",
        "                   show_window=False))\n",
        "  camera.set_name(\"rgbd_sensor\")\n",
        "  builder.Connect(scene_graph.get_query_output_port(),\n",
        "                  camera.query_object_input_port())\n",
        "\n",
        "  # Export the camera outputs\n",
        "  builder.ExportOutput(camera.color_image_output_port(), \"color_image\")\n",
        "  builder.ExportOutput(camera.depth_image_32F_output_port(), \"depth_image\")\n",
        "\n",
        "  # Add a system to convert the camera output into a point cloud\n",
        "  to_point_cloud = builder.AddSystem(\n",
        "      DepthImageToPointCloud(camera_info=camera.depth_camera_info(),\n",
        "                              pixel_type=PixelType.kDepth32F,\n",
        "                              fields=BaseField.kXYZs | BaseField.kRGBs))\n",
        "  builder.Connect(camera.depth_image_32F_output_port(),\n",
        "                  to_point_cloud.depth_image_input_port())\n",
        "  builder.Connect(camera.color_image_output_port(),\n",
        "                  to_point_cloud.color_image_input_port())\n",
        "\n",
        "  # Send the point cloud to meshcat for visualization, too.\n",
        "  meshcat_pointcloud = builder.AddSystem(MeshcatPointCloudVisualizer(meshcat, X_WP=X_WC, draw_period=1./5.))\n",
        "  builder.Connect(to_point_cloud.point_cloud_output_port(), meshcat_pointcloud.get_input_port())\n",
        "\n",
        "  # Export the point cloud output.\n",
        "  builder.ExportOutput(to_point_cloud.point_cloud_output_port(),\n",
        "                        \"point_cloud\")\n",
        "\n",
        "  diagram = builder.Build()\n",
        "  diagram.set_name(\"depth_camera_demo_system\")\n",
        "  return diagram, plant, generator, rs, builder, scene_graph \n",
        "\n",
        "# Set pose of the brick \n",
        "X_WO = RigidTransform(RollPitchYaw(0, 0, np.pi/5).ToRotationMatrix(), np.array([-0.1, -0.6, 0.09]))\n",
        "\n",
        "# Setup CameraPose\n",
        "X_WC = RigidTransform(\n",
        "                       RollPitchYaw(np.pi, 0, np.pi/2.0),\n",
        "                       [0, 0, .8])\n",
        "\n",
        "# Take a pointcloud snapshot of the scene with the brick. \n",
        "diagram, plant, generator, rs, builder, scene_graph = setup_clutter_station(X_WC)\n",
        "print(\"OUTSIDE setup_clutter_station\")\n",
        "simulator = Simulator(diagram)\n",
        "context = simulator.get_mutable_context()\n",
        "plant_context = plant.GetMyContextFromRoot(context)\n",
        "transforms = []\n",
        "z = 0.1\n",
        "for body_index in plant.GetFloatingBaseBodies():\n",
        "    print(plant.get_body(body_index))\n",
        "    tf = RigidTransform(\n",
        "            UniformlyRandomRotationMatrix(generator),  \n",
        "            [rs.uniform(-.15,.15), rs.uniform(-.2, .2), z])\n",
        "    print(tf.GetAsMatrix4())\n",
        "    plant.SetFreeBodyPose(plant_context, \n",
        "                          plant.get_body(body_index),\n",
        "                          tf)\n",
        "    z += 0.1\n",
        "    transforms.append(tf)\n",
        "scene_pcl_drake = diagram.GetOutputPort(\"point_cloud\").Eval(context)\n",
        "scene_pcl_np = X_WC.multiply(pcl_drake2np(scene_pcl_drake).transpose()).transpose()\n",
        "scene_rgb_np = rgb_drake2np(scene_pcl_drake)"
      ],
      "execution_count": 17,
      "outputs": [
        {
          "output_type": "stream",
          "text": [
            "Connecting to meshcat-server at zmq_url=tcp://127.0.0.1:6002...\n",
            "You can open the visualizer by visiting the following URL:\n",
            "http://0d6c368c0be6.ngrok.io/static/\n",
            "Connected to meshcat-server.\n",
            "OUTSIDE setup_clutter_station\n",
            "<RigidBody_[float] name='base_link_soup' index=2 model_instance=3>\n",
            "[[-0.61347646 -0.30826448  0.72706234 -0.03373933]\n",
            " [-0.55074214 -0.4928238  -0.67365257 -0.18704555]\n",
            " [ 0.56597679 -0.81369387  0.13256156  0.1       ]\n",
            " [ 0.          0.          0.          1.        ]]\n"
          ],
          "name": "stdout"
        }
      ]
    },
    {
      "cell_type": "markdown",
      "metadata": {
        "id": "lfeMferb-Bo4"
      },
      "source": [
        "Visualize setup\n"
      ]
    },
    {
      "cell_type": "code",
      "metadata": {
        "id": "bRl1p-bo-BCd",
        "outputId": "11487464-299e-4b0e-a4ff-8233a145ffb5",
        "colab": {
          "base_uri": "https://localhost:8080/"
        }
      },
      "source": [
        "vis = meshcat.Visualizer(zmq_url).open()\n",
        "vis.delete()\n",
        "\n",
        "visualize_pointcloud_xyzrgb(vis, \n",
        "                            scene_pcl_np.transpose(), \n",
        "                            scene_rgb_np.transpose(), \n",
        "                            name=\"pcl_scene_background\")"
      ],
      "execution_count": 20,
      "outputs": [
        {
          "output_type": "stream",
          "text": [
            "You can open the visualizer by visiting the following URL:\n",
            "http://0d6c368c0be6.ngrok.io/static/\n"
          ],
          "name": "stdout"
        }
      ]
    }
  ]
}